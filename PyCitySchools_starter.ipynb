{
 "cells": [
  {
   "cell_type": "markdown",
   "metadata": {},
   "source": [
    "### Note\n",
    "* Instructions have been included for each segment. You do not have to follow them exactly, but they are included to help you think through the steps."
   ]
  },
  {
   "cell_type": "code",
   "execution_count": 1,
   "metadata": {},
   "outputs": [
    {
     "name": "stderr",
     "output_type": "stream",
     "text": [
      "C:\\Users\\12163\\anaconda3\\lib\\site-packages\\numpy\\core\\getlimits.py:174: RuntimeWarning: divide by zero encountered in exp2\n",
      "  eps=exp2(ld(-112)),\n",
      "C:\\Users\\12163\\anaconda3\\lib\\site-packages\\numpy\\core\\getlimits.py:53: RuntimeWarning: divide by zero encountered in log10\n",
      "  self.precision = int(-log10(self.eps))\n",
      "C:\\Users\\12163\\anaconda3\\lib\\site-packages\\numpy\\core\\getlimits.py:54: RuntimeWarning: divide by zero encountered in power\n",
      "  self.resolution = float_to_float(float_conv(10) ** (-self.precision))\n",
      "C:\\Users\\12163\\anaconda3\\lib\\site-packages\\numpy\\core\\getlimits.py:186: RuntimeWarning: divide by zero encountered in exp2\n",
      "  epsneg_f80 = exp2(ld(-64))\n",
      "C:\\Users\\12163\\anaconda3\\lib\\site-packages\\numpy\\core\\getlimits.py:187: RuntimeWarning: divide by zero encountered in exp2\n",
      "  tiny_f80 = exp2(ld(-16382))\n",
      "C:\\Users\\12163\\anaconda3\\lib\\site-packages\\numpy\\core\\getlimits.py:201: RuntimeWarning: divide by zero encountered in exp2\n",
      "  eps=exp2(ld(-63)),\n",
      "C:\\Users\\12163\\anaconda3\\lib\\site-packages\\numpy\\core\\getlimits.py:214: RuntimeWarning: divide by zero encountered in nextafter\n",
      "  if hasattr(umath, 'nextafter')  # Missing on some platforms?\n",
      "C:\\Users\\12163\\anaconda3\\lib\\site-packages\\numpy\\core\\getlimits.py:226: RuntimeWarning: divide by zero encountered in exp2\n",
      "  eps=exp2(ld(-105)),\n",
      "C:\\Users\\12163\\anaconda3\\lib\\site-packages\\numpy\\core\\getlimits.py:227: RuntimeWarning: divide by zero encountered in exp2\n",
      "  epsneg= exp2(ld(-106)),\n",
      "C:\\Users\\12163\\anaconda3\\lib\\site-packages\\numpy\\core\\getlimits.py:229: RuntimeWarning: divide by zero encountered in exp2\n",
      "  tiny=exp2(ld(-1022)))\n",
      "C:\\Users\\12163\\anaconda3\\lib\\site-packages\\numpy\\__init__.py:252: RuntimeWarning: divide by zero encountered in subtract\n",
      "  if not abs(x.dot(x) - 2.0) < 1e-5:\n",
      "C:\\Users\\12163\\anaconda3\\lib\\site-packages\\numpy\\__init__.py:252: RuntimeWarning: divide by zero encountered in absolute\n",
      "  if not abs(x.dot(x) - 2.0) < 1e-5:\n",
      "C:\\Users\\12163\\anaconda3\\lib\\importlib\\_bootstrap.py:219: RuntimeWarning: divide by zero encountered in add\n",
      "  return f(*args, **kwds)\n",
      "C:\\Users\\12163\\anaconda3\\lib\\site-packages\\pandas\\tseries\\offsets.py:2547: RuntimeWarning: divide by zero encountered in add\n",
      "  _inc = Timedelta(microseconds=1000)\n",
      "C:\\Users\\12163\\anaconda3\\lib\\site-packages\\pandas\\tseries\\offsets.py:2679: RuntimeWarning: divide by zero encountered in add\n",
      "  _inc = Timedelta(days=1)\n",
      "C:\\Users\\12163\\anaconda3\\lib\\site-packages\\pandas\\tseries\\offsets.py:2684: RuntimeWarning: divide by zero encountered in add\n",
      "  _inc = Timedelta(hours=1)\n",
      "C:\\Users\\12163\\anaconda3\\lib\\site-packages\\pandas\\tseries\\offsets.py:2689: RuntimeWarning: divide by zero encountered in add\n",
      "  _inc = Timedelta(minutes=1)\n",
      "C:\\Users\\12163\\anaconda3\\lib\\site-packages\\pandas\\tseries\\offsets.py:2694: RuntimeWarning: divide by zero encountered in add\n",
      "  _inc = Timedelta(seconds=1)\n",
      "C:\\Users\\12163\\anaconda3\\lib\\site-packages\\pandas\\tseries\\offsets.py:2699: RuntimeWarning: divide by zero encountered in add\n",
      "  _inc = Timedelta(milliseconds=1)\n",
      "C:\\Users\\12163\\anaconda3\\lib\\site-packages\\pandas\\tseries\\offsets.py:2704: RuntimeWarning: divide by zero encountered in add\n",
      "  _inc = Timedelta(microseconds=1)\n",
      "C:\\Users\\12163\\anaconda3\\lib\\site-packages\\pandas\\tseries\\offsets.py:2709: RuntimeWarning: divide by zero encountered in add\n",
      "  _inc = Timedelta(nanoseconds=1)\n",
      "C:\\Users\\12163\\anaconda3\\lib\\site-packages\\pandas\\core\\internals\\managers.py:226: RuntimeWarning: divide by zero encountered in equal\n",
      "  if (new_blknos == -1).any():\n",
      "C:\\Users\\12163\\anaconda3\\lib\\site-packages\\numpy\\core\\_methods.py:45: RuntimeWarning: divide by zero encountered in reduce\n",
      "  return umr_any(a, axis, dtype, out, keepdims)\n",
      "C:\\Users\\12163\\anaconda3\\lib\\site-packages\\pandas\\core\\indexes\\base.py:5015: RuntimeWarning: divide by zero encountered in equal\n",
      "  mask = indexer == -1\n",
      "C:\\Users\\12163\\anaconda3\\lib\\site-packages\\numpy\\lib\\function_base.py:4400: RuntimeWarning: divide by zero encountered in less\n",
      "  inside_bounds = (obj < N) & (obj >= -N)\n",
      "C:\\Users\\12163\\anaconda3\\lib\\site-packages\\numpy\\lib\\function_base.py:4400: RuntimeWarning: divide by zero encountered in greater_equal\n",
      "  inside_bounds = (obj < N) & (obj >= -N)\n",
      "C:\\Users\\12163\\anaconda3\\lib\\site-packages\\numpy\\lib\\function_base.py:4400: RuntimeWarning: divide by zero encountered in bitwise_and\n",
      "  inside_bounds = (obj < N) & (obj >= -N)\n",
      "C:\\Users\\12163\\anaconda3\\lib\\site-packages\\numpy\\core\\_methods.py:48: RuntimeWarning: divide by zero encountered in reduce\n",
      "  return umr_all(a, axis, dtype, out, keepdims)\n",
      "C:\\Users\\12163\\anaconda3\\lib\\site-packages\\numpy\\lib\\function_base.py:4408: RuntimeWarning: divide by zero encountered in greater_equal\n",
      "  positive_indices = obj >= 0\n",
      "C:\\Users\\12163\\anaconda3\\lib\\site-packages\\pandas\\core\\reshape\\merge.py:1917: RuntimeWarning: divide by zero encountered in equal\n",
      "  llab = rizer.factorize(lk)\n",
      "C:\\Users\\12163\\anaconda3\\lib\\site-packages\\pandas\\core\\reshape\\merge.py:1918: RuntimeWarning: divide by zero encountered in equal\n",
      "  rlab = rizer.factorize(rk)\n",
      "C:\\Users\\12163\\anaconda3\\lib\\site-packages\\pandas\\core\\reshape\\merge.py:1927: RuntimeWarning: divide by zero encountered in equal\n",
      "  lmask = llab == -1\n",
      "C:\\Users\\12163\\anaconda3\\lib\\site-packages\\pandas\\core\\reshape\\merge.py:1929: RuntimeWarning: divide by zero encountered in equal\n",
      "  rmask = rlab == -1\n",
      "C:\\Users\\12163\\anaconda3\\lib\\site-packages\\numpy\\core\\fromnumeric.py:90: RuntimeWarning: divide by zero encountered in reduce\n",
      "  return ufunc.reduce(obj, axis, dtype, out, **passkwargs)\n",
      "C:\\Users\\12163\\anaconda3\\lib\\site-packages\\pandas\\core\\reshape\\merge.py:1965: RuntimeWarning: divide by zero encountered in multiply\n",
      "  lkey = stride * llab[0].astype(\"i8\", subok=False, copy=False)\n",
      "C:\\Users\\12163\\anaconda3\\lib\\site-packages\\pandas\\core\\reshape\\merge.py:1966: RuntimeWarning: divide by zero encountered in multiply\n",
      "  rkey = stride * rlab[0].astype(\"i8\", subok=False, copy=False)\n",
      "C:\\Users\\12163\\anaconda3\\lib\\site-packages\\pandas\\core\\reshape\\merge.py:1971: RuntimeWarning: divide by zero encountered in multiply\n",
      "  lkey += llab[i] * stride\n",
      "C:\\Users\\12163\\anaconda3\\lib\\site-packages\\pandas\\core\\reshape\\merge.py:1971: RuntimeWarning: divide by zero encountered in add\n",
      "  lkey += llab[i] * stride\n",
      "C:\\Users\\12163\\anaconda3\\lib\\site-packages\\pandas\\core\\reshape\\merge.py:1972: RuntimeWarning: divide by zero encountered in multiply\n",
      "  rkey += rlab[i] * stride\n",
      "C:\\Users\\12163\\anaconda3\\lib\\site-packages\\pandas\\core\\reshape\\merge.py:1972: RuntimeWarning: divide by zero encountered in add\n",
      "  rkey += rlab[i] * stride\n",
      "C:\\Users\\12163\\anaconda3\\lib\\site-packages\\pandas\\core\\indexes\\base.py:2419: RuntimeWarning: divide by zero encountered in not_equal\n",
      "  indexer = indexer.take((indexer != -1).nonzero()[0])\n",
      "C:\\Users\\12163\\anaconda3\\lib\\site-packages\\pandas\\core\\internals\\concat.py:130: RuntimeWarning: divide by zero encountered in equal\n",
      "  if (indexer == -1).any():\n",
      "C:\\Users\\12163\\anaconda3\\lib\\site-packages\\pandas\\core\\algorithms.py:1621: RuntimeWarning: divide by zero encountered in equal\n",
      "  mask = indexer == -1\n",
      "C:\\Users\\12163\\anaconda3\\lib\\site-packages\\pandas\\core\\reshape\\merge.py:771: RuntimeWarning: divide by zero encountered in equal\n",
      "  left_has_missing = (left_indexer == -1).any()\n"
     ]
    }
   ],
   "source": [
    "# Dependencies and Setup\n",
    "import pandas as pd\n",
    "\n",
    "# File to Load (Remember to Change These)\n",
    "school_data_to_load = \"Resources_schools_complete.csv\"\n",
    "student_data_to_load = \"Resources_students_complete.csv\"\n",
    "\n",
    "# Read School and Student Data File and store into Pandas DataFrames\n",
    "school_data = pd.read_csv(school_data_to_load)\n",
    "student_data = pd.read_csv(student_data_to_load)\n",
    "\n",
    "# Combine the data into a single dataset.  \n",
    "school_data_complete = pd.merge(student_data, school_data, how=\"left\", on=[\"school_name\", \"school_name\"])"
   ]
  },
  {
   "cell_type": "markdown",
   "metadata": {},
   "source": [
    "## District Summary\n",
    "\n",
    "* Calculate the total number of schools\n",
    "\n",
    "* Calculate the total number of students\n",
    "\n",
    "* Calculate the total budget\n",
    "\n",
    "* Calculate the average math score \n",
    "\n",
    "* Calculate the average reading score\n",
    "\n",
    "* Calculate the percentage of students with a passing math score (70 or greater)\n",
    "\n",
    "* Calculate the percentage of students with a passing reading score (70 or greater)\n",
    "\n",
    "* Calculate the percentage of students who passed math **and** reading (% Overall Passing)\n",
    "\n",
    "* Create a dataframe to hold the above results\n",
    "\n",
    "* Optional: give the displayed data cleaner formatting"
   ]
  },
  {
   "cell_type": "code",
   "execution_count": null,
   "metadata": {},
   "outputs": [],
   "source": []
  },
  {
   "cell_type": "markdown",
   "metadata": {},
   "source": [
    "## School Summary"
   ]
  },
  {
   "cell_type": "markdown",
   "metadata": {},
   "source": [
    "* Create an overview table that summarizes key metrics about each school, including:\n",
    "  * School Name\n",
    "  * School Type\n",
    "  * Total Students\n",
    "  * Total School Budget\n",
    "  * Per Student Budget\n",
    "  * Average Math Score\n",
    "  * Average Reading Score\n",
    "  * % Passing Math\n",
    "  * % Passing Reading\n",
    "  * % Overall Passing (The percentage of students that passed math **and** reading.)\n",
    "  \n",
    "* Create a dataframe to hold the above results"
   ]
  },
  {
   "cell_type": "code",
   "execution_count": null,
   "metadata": {},
   "outputs": [],
   "source": []
  },
  {
   "cell_type": "markdown",
   "metadata": {},
   "source": [
    "## Top Performing Schools (By % Overall Passing)"
   ]
  },
  {
   "cell_type": "markdown",
   "metadata": {},
   "source": [
    "* Sort and display the top five performing schools by % overall passing."
   ]
  },
  {
   "cell_type": "code",
   "execution_count": null,
   "metadata": {
    "scrolled": true
   },
   "outputs": [],
   "source": []
  },
  {
   "cell_type": "markdown",
   "metadata": {},
   "source": [
    "## Bottom Performing Schools (By % Overall Passing)"
   ]
  },
  {
   "cell_type": "markdown",
   "metadata": {},
   "source": [
    "* Sort and display the five worst-performing schools by % overall passing."
   ]
  },
  {
   "cell_type": "code",
   "execution_count": null,
   "metadata": {},
   "outputs": [],
   "source": []
  },
  {
   "cell_type": "markdown",
   "metadata": {
    "collapsed": true
   },
   "source": [
    "## Math Scores by Grade"
   ]
  },
  {
   "cell_type": "markdown",
   "metadata": {},
   "source": [
    "* Create a table that lists the average Reading Score for students of each grade level (9th, 10th, 11th, 12th) at each school.\n",
    "\n",
    "  * Create a pandas series for each grade. Hint: use a conditional statement.\n",
    "  \n",
    "  * Group each series by school\n",
    "  \n",
    "  * Combine the series into a dataframe\n",
    "  \n",
    "  * Optional: give the displayed data cleaner formatting"
   ]
  },
  {
   "cell_type": "code",
   "execution_count": null,
   "metadata": {},
   "outputs": [],
   "source": []
  },
  {
   "cell_type": "markdown",
   "metadata": {},
   "source": [
    "## Reading Score by Grade "
   ]
  },
  {
   "cell_type": "markdown",
   "metadata": {},
   "source": [
    "* Perform the same operations as above for reading scores"
   ]
  },
  {
   "cell_type": "code",
   "execution_count": null,
   "metadata": {},
   "outputs": [],
   "source": []
  },
  {
   "cell_type": "markdown",
   "metadata": {},
   "source": [
    "## Scores by School Spending"
   ]
  },
  {
   "cell_type": "markdown",
   "metadata": {},
   "source": [
    "* Create a table that breaks down school performances based on average Spending Ranges (Per Student). Use 4 reasonable bins to group school spending. Include in the table each of the following:\n",
    "  * Average Math Score\n",
    "  * Average Reading Score\n",
    "  * % Passing Math\n",
    "  * % Passing Reading\n",
    "  * Overall Passing Rate (Average of the above two)"
   ]
  },
  {
   "cell_type": "code",
   "execution_count": null,
   "metadata": {},
   "outputs": [],
   "source": []
  },
  {
   "cell_type": "markdown",
   "metadata": {},
   "source": [
    "## Scores by School Size"
   ]
  },
  {
   "cell_type": "markdown",
   "metadata": {},
   "source": [
    "* Perform the same operations as above, based on school size."
   ]
  },
  {
   "cell_type": "code",
   "execution_count": null,
   "metadata": {
    "scrolled": true
   },
   "outputs": [],
   "source": []
  },
  {
   "cell_type": "markdown",
   "metadata": {},
   "source": [
    "## Scores by School Type"
   ]
  },
  {
   "cell_type": "markdown",
   "metadata": {},
   "source": [
    "* Perform the same operations as above, based on school type"
   ]
  },
  {
   "cell_type": "code",
   "execution_count": null,
   "metadata": {},
   "outputs": [],
   "source": []
  },
  {
   "cell_type": "code",
   "execution_count": null,
   "metadata": {},
   "outputs": [],
   "source": []
  }
 ],
 "metadata": {
  "anaconda-cloud": {},
  "kernel_info": {
   "name": "python3"
  },
  "kernelspec": {
   "display_name": "Python 3",
   "language": "python",
   "name": "python3"
  },
  "language_info": {
   "codemirror_mode": {
    "name": "ipython",
    "version": 3
   },
   "file_extension": ".py",
   "mimetype": "text/x-python",
   "name": "python",
   "nbconvert_exporter": "python",
   "pygments_lexer": "ipython3",
   "version": "3.7.6"
  },
  "latex_envs": {
   "LaTeX_envs_menu_present": true,
   "autoclose": false,
   "autocomplete": true,
   "bibliofile": "biblio.bib",
   "cite_by": "apalike",
   "current_citInitial": 1,
   "eqLabelWithNumbers": true,
   "eqNumInitial": 1,
   "hotkeys": {
    "equation": "Ctrl-E",
    "itemize": "Ctrl-I"
   },
   "labels_anchors": false,
   "latex_user_defs": false,
   "report_style_numbering": false,
   "user_envs_cfg": false
  },
  "nteract": {
   "version": "0.8.4"
  }
 },
 "nbformat": 4,
 "nbformat_minor": 1
}
